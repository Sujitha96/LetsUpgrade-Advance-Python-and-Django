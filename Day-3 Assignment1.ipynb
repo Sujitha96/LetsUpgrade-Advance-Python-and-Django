{
 "cells": [
  {
   "cell_type": "markdown",
   "metadata": {},
   "source": [
    "# list= [1,2,3,0,2,3,0,1,24,0,1,3,1,0,1,21,0,1,2,0,45] sort in Ascending order and all zeros must at the end of the list\n",
    "   "
   ]
  },
  {
   "cell_type": "code",
   "execution_count": 4,
   "metadata": {},
   "outputs": [
    {
     "name": "stdout",
     "output_type": "stream",
     "text": [
      "[1, 1, 1, 1, 1, 1, 2, 2, 2, 3, 3, 3, 21, 24, 45, 0, 0, 0, 0, 0, 0]\n"
     ]
    }
   ],
   "source": [
    "def pushZerosToEnd(arr, n): \n",
    "    count = 0 \n",
    "    for i in range(n): \n",
    "        if arr[i] != 0: \n",
    "            arr[count] = arr[i] \n",
    "            count+=1\n",
    "    while count < n: \n",
    "        arr[count] = 0\n",
    "        count += 1 \n",
    "arr = [1,2,3,0,2,3,0,1,24,0,1,3,1,0,1,21,0,1,2,0,45]\n",
    "arr.sort()\n",
    "n = len(arr) \n",
    "pushZerosToEnd(arr, n) \n",
    "print(arr)"
   ]
  },
  {
   "cell_type": "markdown",
   "metadata": {},
   "source": [
    "# Find all the occurances of the given object in the list and tuple"
   ]
  },
  {
   "cell_type": "code",
   "execution_count": 5,
   "metadata": {},
   "outputs": [],
   "source": [
    "list=[1,2,3,4,5,56,6,1,2,3,4,1,3,2,3]"
   ]
  },
  {
   "cell_type": "code",
   "execution_count": 6,
   "metadata": {},
   "outputs": [
    {
     "data": {
      "text/plain": [
       "[1, 2, 3, 4, 5, 56, 6, 1, 2, 3, 4, 1, 3, 2, 3]"
      ]
     },
     "execution_count": 6,
     "metadata": {},
     "output_type": "execute_result"
    }
   ],
   "source": [
    "list"
   ]
  },
  {
   "cell_type": "code",
   "execution_count": 7,
   "metadata": {},
   "outputs": [
    {
     "data": {
      "text/plain": [
       "1"
      ]
     },
     "execution_count": 7,
     "metadata": {},
     "output_type": "execute_result"
    }
   ],
   "source": [
    "list.count(6)"
   ]
  },
  {
   "cell_type": "code",
   "execution_count": 8,
   "metadata": {},
   "outputs": [
    {
     "data": {
      "text/plain": [
       "3"
      ]
     },
     "execution_count": 8,
     "metadata": {},
     "output_type": "execute_result"
    }
   ],
   "source": [
    "list.index(4)"
   ]
  },
  {
   "cell_type": "code",
   "execution_count": 9,
   "metadata": {},
   "outputs": [],
   "source": [
    "list_of_elements = ['Hello', 'Ok', 'is', 'Ok', 'test', 'this', 'is', 'a', 'test', 'Ok']"
   ]
  },
  {
   "cell_type": "code",
   "execution_count": 10,
   "metadata": {},
   "outputs": [
    {
     "data": {
      "text/plain": [
       "['Hello', 'Ok', 'is', 'Ok', 'test', 'this', 'is', 'a', 'test', 'Ok']"
      ]
     },
     "execution_count": 10,
     "metadata": {},
     "output_type": "execute_result"
    }
   ],
   "source": [
    "list_of_elements"
   ]
  },
  {
   "cell_type": "code",
   "execution_count": 11,
   "metadata": {},
   "outputs": [
    {
     "data": {
      "text/plain": [
       "'is'"
      ]
     },
     "execution_count": 11,
     "metadata": {},
     "output_type": "execute_result"
    }
   ],
   "source": [
    "list_of_elements[2]"
   ]
  },
  {
   "cell_type": "code",
   "execution_count": 12,
   "metadata": {},
   "outputs": [],
   "source": [
    "tuple=(1,2,3,4,5,56,6,1,2,3,4,1,3,2,3)"
   ]
  },
  {
   "cell_type": "code",
   "execution_count": 13,
   "metadata": {},
   "outputs": [
    {
     "data": {
      "text/plain": [
       "(1, 2, 3, 4, 5, 56, 6, 1, 2, 3, 4, 1, 3, 2, 3)"
      ]
     },
     "execution_count": 13,
     "metadata": {},
     "output_type": "execute_result"
    }
   ],
   "source": [
    "tuple"
   ]
  },
  {
   "cell_type": "code",
   "execution_count": 14,
   "metadata": {},
   "outputs": [
    {
     "data": {
      "text/plain": [
       "0"
      ]
     },
     "execution_count": 14,
     "metadata": {},
     "output_type": "execute_result"
    }
   ],
   "source": [
    "tuple.count(10)"
   ]
  },
  {
   "cell_type": "code",
   "execution_count": 15,
   "metadata": {},
   "outputs": [
    {
     "data": {
      "text/plain": [
       "5"
      ]
     },
     "execution_count": 15,
     "metadata": {},
     "output_type": "execute_result"
    }
   ],
   "source": [
    "tuple.index(56)"
   ]
  },
  {
   "cell_type": "markdown",
   "metadata": {},
   "source": [
    "# list(10, 4),(90, 3),(9, 1),(10, 4),(9, 5)) Sum of all the elements with in the list "
   ]
  },
  {
   "cell_type": "code",
   "execution_count": 16,
   "metadata": {},
   "outputs": [
    {
     "name": "stdout",
     "output_type": "stream",
     "text": [
      "14 93 10 14 14\n"
     ]
    }
   ],
   "source": [
    "def sum_list(items):\n",
    "    sum_numbers = 0\n",
    "    for x in items:\n",
    "        sum_numbers += x\n",
    "    return sum_numbers\n",
    "print(sum_list([10, 4]),sum_list ([90, 3]),sum_list ([9, 1]),sum_list ([10, 4]),sum_list ([9, 5]))"
   ]
  },
  {
   "cell_type": "markdown",
   "metadata": {},
   "source": [
    "# lst=[\"192.168.10.9\",\"192.168.10.4\",\"192.168.10.11\",\"192.168.10.35\"] Sort in order"
   ]
  },
  {
   "cell_type": "code",
   "execution_count": 17,
   "metadata": {},
   "outputs": [
    {
     "name": "stdout",
     "output_type": "stream",
     "text": [
      "['192.168.10.4', '192.168.10.9', '192.168.10.11', '192.168.10.35']\n"
     ]
    }
   ],
   "source": [
    "lst=[\"192.168.10.9\",\"192.168.10.4\",\"192.168.10.11\",\"192.168.10.35\"]\n",
    "def fun1(l):\n",
    "    x=l.split('.')\n",
    "    return int(x[3])\n",
    "\n",
    "lst.sort(key=fun1)\n",
    "print(lst)"
   ]
  },
  {
   "cell_type": "code",
   "execution_count": 18,
   "metadata": {},
   "outputs": [
    {
     "name": "stdout",
     "output_type": "stream",
     "text": [
      "{'Hitler', 'Agent-X', 'Agent 13'}\n"
     ]
    }
   ],
   "source": [
    "def uncover_hydra(communications, fury):\n",
    "    messages = dict()\n",
    "\n",
    "    for cmnt in communications:\n",
    "        _parse_communication(cmnt, messages)\n",
    "\n",
    "    print(_find_hydra_agents(messages, fury))\n",
    "\n",
    "def _parse_communication(cmnt, messages):\n",
    "    msg = cmnt.split(':')\n",
    "    sender = msg[0].strip()\n",
    "    receivers = [receiver.strip() for receiver in msg[1].split(',')]\n",
    "    messages[sender] = receivers\n",
    "\n",
    "\n",
    "def _find_hydra_agents(agents_msg, fury):\n",
    "    hydra, shield_agents, agents = set(), set(), [fury]\n",
    "\n",
    "    while len(agents) > 0:\n",
    "        current = agents.pop()\n",
    "        shield_agents.add(current)\n",
    "\n",
    "        if current in agents_msg:\n",
    "            for agent in agents_msg[current]:\n",
    "                if agent not in shield_agents:\n",
    "                    agents.append(agent)\n",
    "\n",
    " \n",
    "    for sender in agents_msg.keys():\n",
    "        if sender not in shield_agents:\n",
    "            hydra.add(sender)\n",
    "\n",
    "        for receiver in agents_msg[sender]:\n",
    "            if receiver not in shield_agents:\n",
    "                hydra.add(receiver)\n",
    "\n",
    "    return hydra\n",
    "\n",
    "\n",
    "communication = [\"Nick Fury : Tony Stark, Maria Hill, Norman Osborn\",\n",
    "                 \"Hulk : Tony Stark, HawkEye, Rogers\",\n",
    "                 \"Rogers : Thor\",\n",
    "                 \"Tony Stark: Pepper Potts, Nick Fury\",\n",
    "                 \"Agent 13 : Agent-X, Nick Fury, Hitler\",\n",
    "                 \"Thor: HawkEye, BlackWidow\",\n",
    "                 \"BlackWidow:Hawkeye\",\n",
    "                 \"Maria Hill : Hulk, Rogers, Nick Fury\",\n",
    "                 \"Agent-X : Agent 13, Rogers\",\n",
    "                 \"Norman Osborn: Tony Stark, Thor\"]\n",
    "\n",
    "uncover_hydra(communication, \"Nick Fury\")"
   ]
  },
  {
   "cell_type": "code",
   "execution_count": 19,
   "metadata": {},
   "outputs": [
    {
     "ename": "SyntaxError",
     "evalue": "invalid syntax (<ipython-input-19-9803e25ecaf7>, line 1)",
     "output_type": "error",
     "traceback": [
      "\u001b[1;36m  File \u001b[1;32m\"<ipython-input-19-9803e25ecaf7>\"\u001b[1;36m, line \u001b[1;32m1\u001b[0m\n\u001b[1;33m    Question 1\u001b[0m\n\u001b[1;37m             ^\u001b[0m\n\u001b[1;31mSyntaxError\u001b[0m\u001b[1;31m:\u001b[0m invalid syntax\n"
     ]
    }
   ],
   "source": [
    "Question 1\n",
    "The SHIELD is a secretive organization entrusted with the task of guarding the world against\n",
    "any disaster. Their arch nemesis is the organization called HYDRA. Unfortunately some\n",
    "members from HYDRA had infiltrated into the SHIELD camp. SHIELD needed to find out all\n",
    "these infiltrators to ensure that it was not compromised.\n",
    "Nick Fury, the executive director and the prime SHIELD member figured out that every one\n",
    "in SHIELD could send a SOS signal to every other SHIELD member he knew well. The HYDRA\n",
    "members could send bogus SOS messages to others to confuse others, but they could never\n",
    "receive a SOS message from a SHIELD member. Every SHIELD member would receive a\n",
    "SOS message ateast one other SHIELD member, who in turn would have received from\n",
    "another SHIELD member and so on till NickFury. SHIELD had a sophisticated mechanism to\n",
    "capture who sent a SOS signal to whom. Given this information, Nick needed someone to\n",
    "write a program that could look into this data and figure out all HYDRA members.\n",
    "Sample Input\n",
    "Nick Fury : Tony Stark, Maria Hill, Norman Osborn\n",
    "Hulk : Tony Stark, HawkEye, Rogers\n",
    "Rogers : Thor,\n",
    "Tony Stark: Pepper Potts, Nick Fury\n",
    "Agent 13 : Agent-X, Nick Fury, Hitler\n",
    "Thor: HawkEye, BlackWidow\n",
    "BlackWidow:Hawkeye\n",
    "Maria Hill : Hulk, Rogers, Nick Fury\n",
    "\n",
    "Agent-X : Agent 13, Rogers\n",
    "Norman Osborn: Tony Stark, Thor"
   ]
  },
  {
   "cell_type": "code",
   "execution_count": null,
   "metadata": {},
   "outputs": [],
   "source": [
    "import random\n",
    "import string\n",
    "\n",
    "digits = string.digits\n",
    "letter_digit_list = list(string.digits + string.ascii_letters+)\n",
    "# shuffle random source of letters and digits\n",
    "random.shuffle(letter_digit_list)\n",
    "\n",
    "# first generate 4 random digits\n",
    "sample_str = ''.join((random.choice(digits) for i in range(4)))\n",
    "\n",
    "# Now create random string of length 6 which is a combination of letters and digits\n",
    "# Next, concatenate it with sample_str\n",
    "sample_str += ''.join((random.choice(letter_digit_list) for i in range(6)))\n",
    "aList = list(sample_str)\n",
    "random.shuffle(aList)\n",
    "\n",
    "final_str = ''.join(aList)\n",
    "print(\"Random String:\", final_str)\n"
   ]
  },
  {
   "cell_type": "code",
   "execution_count": null,
   "metadata": {},
   "outputs": [],
   "source": [
    "import string\n",
    "import random \n",
    "# Set of possible characters \n",
    "char = string.ascii_letters + string.punctuation + string.digits\n",
    "# Creating password of random size and displaying it\n",
    "password =  \"\".join(random.choice(char) for i in range(random.randint(2, 12)))\n",
    "print(password)"
   ]
  },
  {
   "cell_type": "code",
   "execution_count": null,
   "metadata": {},
   "outputs": [],
   "source": [
    "import random\n",
    "import string\n",
    "\n",
    "def get_random_string(length):\n",
    "    letters = string.ascii_lowercase\n",
    "    result_str = ''.join(random.choice(letters) for i in range(length))\n",
    "    print(\"Random string of length\", length, \"is:\", result_str)\n",
    "\n",
    "get_random_string(8)\n",
    "get_random_string(8)\n",
    "get_random_string(6)"
   ]
  },
  {
   "cell_type": "code",
   "execution_count": null,
   "metadata": {},
   "outputs": [],
   "source": [
    "import random\n",
    "import string\n",
    "def random_password(length):\n",
    "    # Random string with the combination of lower and upper case, numbers and special characters. \n",
    "    letters = string.ascii_letters + string.digits +  string.punctuation\n",
    "    separator = ''\n",
    "    password = separator.join(random.choice(letters) for i in range(length))\n",
    "    print(\"One possible password is:\", password)\n",
    "\n",
    "length = int(input(\"Enter the desired length of the password:\"))\n",
    "random_password(length)"
   ]
  },
  {
   "cell_type": "code",
   "execution_count": null,
   "metadata": {},
   "outputs": [],
   "source": [
    "import random \n",
    "import array \n",
    "  \n",
    "# maximum length of password needed \n",
    "# this can be changed to suit your password length \n",
    "MAX_LEN = 12\n",
    "  \n",
    "# declare arrays of the character that we need in out password \n",
    "# Represented as chars to enable easy string concatenation \n",
    "DIGITS = ['0', '1', '2', '3', '4', '5', '6', '7', '8', '9']   \n",
    "LOCASE_CHARACTERS = ['a', 'b', 'c', 'd', 'e', 'f', 'g', 'h',  \n",
    "                     'i', 'j', 'k', 'm', 'n', 'o', 'p', 'q', \n",
    "                     'r', 's', 't', 'u', 'v', 'w', 'x', 'y', \n",
    "                     'z'] \n",
    "  \n",
    "UPCASE_CHARACTERS = ['A', 'B', 'C', 'D', 'E', 'F', 'G', 'H',  \n",
    "                     'I', 'J', 'K', 'M', 'N', 'O', 'p', 'Q', \n",
    "                     'R', 'S', 'T', 'U', 'V', 'W', 'X', 'Y', \n",
    "                     'Z'] \n",
    "  \n",
    "SYMBOLS = ['@', '#', '$', '%', '=', ':', '?', '.', '/', '|', '~', '>',  \n",
    "           '*', '(', ')', '<&# 039;] \n",
    "  \n",
    "# combines all the character arrays above to form one array \n",
    "COMBINED_LIST = DIGITS + UPCASE_CHARACTERS + LOCASE_CHARACTERS + SYMBOLS \n",
    "  \n",
    "# randomly select at least one character from each character set above \n",
    "rand_digit = random.choice(DIGITS) \n",
    "rand_upper = random.choice(UPCASE_CHARACTERS) \n",
    "rand_lower = random.choice(LOCASE_CHARACTERS) \n",
    "rand_symbol = random.choice(SYMBOLS) \n",
    "  \n",
    "# combine the character randomly selected above \n",
    "# at this stage, the password contains only 4 characters but  \n",
    "# we want a 12-character password \n",
    "temp_pass = rand_digit + rand_upper + rand_lower + rand_symbol \n",
    "  \n",
    "  \n",
    "# now that we are sure we have at least one character from each \n",
    "# set of characters, we fill the rest of \n",
    "# the password length by selecting randomly from the combined  \n",
    "# list of character above. \n",
    "for x in range(MAX_LEN - 4): \n",
    "    temp_pass = temp_pass + random.choice(COMBINED_LIST) \n",
    "    # convert temporary password into array and shuffle to  \n",
    "    # prevent it from having a consistent pattern \n",
    "    # where the beginning of the password is predictable \n",
    "    temp_pass_list = array.array(&# 039;u&# 039;, temp_pass) \n",
    "    random.shuffle(temp_pass_list) \n",
    "  \n",
    "# traverse the temporary password array and append the chars \n",
    "# to form the password \n",
    "password = \"\" \n",
    "for x in temp_pass_list: \n",
    "        password = password + x \n",
    "          \n",
    "# print out password \n",
    "print(password) "
   ]
  },
  {
   "cell_type": "code",
   "execution_count": null,
   "metadata": {},
   "outputs": [],
   "source": [
    "import string\n",
    "import random\n",
    "if __name__ == \"__main__\":\n",
    "    s1 = string.ascii_lowercase\n",
    "    s2 = string.ascii_uppercase\n",
    "    s3 = string.digits\n",
    "    s4 = string.punctuation\n",
    "    plen = int(input(\"Enter password length: \"))\n",
    "    s = []\n",
    "    s.extend(list(s1))\n",
    "    s.extend(list(s2))\n",
    "    s.extend(list(s3))\n",
    "    s.extend(list(s4))\n",
    "    print(\"Your password: \", end=\"\")\n",
    "    print(\"\".join(random.sample(s, plen)))"
   ]
  },
  {
   "cell_type": "code",
   "execution_count": null,
   "metadata": {},
   "outputs": [],
   "source": [
    "import random\n",
    "import string\n",
    "\n",
    "def get_random_alphanumeric_string(letters_count, digits_count):\n",
    "    sample_str = ''.join((random.choice(string.ascii_letters) for i in range(letters_count)))\n",
    "    sample_str += ''.join((random.choice(string.digits) for i in range(digits_count)))\n",
    "\n",
    "    # Convert string to list and shuffle it to mix letters and digits\n",
    "    sample_list = list(sample_str)\n",
    "    random.shuffle(sample_list)\n",
    "    final_string = ''.join(sample_list)\n",
    "    return final_string\n",
    "\n",
    "# 5 letters and 3 digits\n",
    "print(\"First random alphanumeric string is:\", get_random_alphanumeric_string(5, 3))\n",
    "\n",
    "# 6 letters and 2 digits\n",
    "print(\"Second random alphanumeric string is:\", get_random_alphanumeric_string(6, 2))\n"
   ]
  },
  {
   "cell_type": "code",
   "execution_count": null,
   "metadata": {},
   "outputs": [],
   "source": [
    "import random\n",
    "import string\n",
    "\n",
    "def get_random_alphanumeric_string(letters_count, digits_count,punctuation_count):\n",
    "    sample_str = ''.join((random.choice(string.ascii_letters) for i in range(letters_count)))\n",
    "    sample_str += ''.join((random.choice(string.digits) for i in range(digits_count)))\n",
    "    sample_str += ''.join((random.choice(string.punctuation) for i in range(punctuation_count)))\n",
    "\n",
    "    # Convert string to list and shuffle it to mix letters and digits\n",
    "    sample_list = list(sample_str)\n",
    "    random.shuffle(sample_list)\n",
    "    final_string = ''.join(sample_list)\n",
    "    return final_string\n",
    "print(\" Random alphanumeric string is:\", get_random_alphanumeric_string(6, 4,2))"
   ]
  },
  {
   "cell_type": "code",
   "execution_count": null,
   "metadata": {},
   "outputs": [],
   "source": [
    "import time\n",
    "import calendar"
   ]
  },
  {
   "cell_type": "code",
   "execution_count": null,
   "metadata": {},
   "outputs": [],
   "source": [
    "import time\n",
    "import calendar\n",
    "t1=\"15-08-2020 15:02:20\"\n",
    "def HR_EP(t1):\n",
    "    t9=time.strptime(t1,\"%d-%m-%Y %H:%M:%S\")\n",
    "    t3=time.mktime(t9)\n",
    "    t4=calendar.timegm(t9)\n",
    "    return t3,t4\n",
    "\n",
    "print(HR_EP(t1))"
   ]
  },
  {
   "cell_type": "code",
   "execution_count": null,
   "metadata": {},
   "outputs": [],
   "source": [
    "[FC]\n",
    "file_path =  C://Users//Sujji//Assignment\n",
    "from = .jpeg\n",
    "to = .docx"
   ]
  },
  {
   "cell_type": "code",
   "execution_count": null,
   "metadata": {},
   "outputs": [],
   "source": [
    "from configparser import ConfigParser as cp\n",
    "\n",
    "\n"
   ]
  },
  {
   "cell_type": "code",
   "execution_count": null,
   "metadata": {},
   "outputs": [],
   "source": [
    "config=cp()\n",
    "config.read('exc.ini')\n",
    "print(config.sections())\n",
    "print(config.options('FC'))\n",
    "\n"
   ]
  },
  {
   "cell_type": "code",
   "execution_count": null,
   "metadata": {},
   "outputs": [],
   "source": [
    "import os\n",
    "\n"
   ]
  },
  {
   "cell_type": "code",
   "execution_count": null,
   "metadata": {},
   "outputs": [],
   "source": [
    "os.chdir(config.get('FC','file_path'))\n",
    "for file in os.listdir('.'):\n",
    "    if file.endswith(config.get('FC','from')):\n",
    "        first_name=file.rsplit('.',1)[0]\n",
    "        new_name=first_name+config.get('FC','to')\n",
    "        os.rename(file,new_name)\n",
    "        print(file)\n"
   ]
  },
  {
   "cell_type": "code",
   "execution_count": null,
   "metadata": {},
   "outputs": [],
   "source": [
    "rep=os.walk('C:\\\\Users\\\\Sujji')\n",
    "d1={}\n",
    "for r,d,f in rep:\n",
    "    for file in f:\n",
    "        d1.setdefault(file,[]).append(r)\n",
    "file_name=input('Enter the file name:')\n",
    "for k,v in d1.items():\n",
    "    if file_name.lower() in k.lower():\n",
    "        for i in v:\n",
    "            print(i)\n",
    "            print('-'*50)\n"
   ]
  },
  {
   "cell_type": "code",
   "execution_count": null,
   "metadata": {},
   "outputs": [],
   "source": []
  },
  {
   "cell_type": "code",
   "execution_count": null,
   "metadata": {},
   "outputs": [],
   "source": []
  }
 ],
 "metadata": {
  "kernelspec": {
   "display_name": "Python 3",
   "language": "python",
   "name": "python3"
  },
  "language_info": {
   "codemirror_mode": {
    "name": "ipython",
    "version": 3
   },
   "file_extension": ".py",
   "mimetype": "text/x-python",
   "name": "python",
   "nbconvert_exporter": "python",
   "pygments_lexer": "ipython3",
   "version": "3.7.6"
  }
 },
 "nbformat": 4,
 "nbformat_minor": 4
}

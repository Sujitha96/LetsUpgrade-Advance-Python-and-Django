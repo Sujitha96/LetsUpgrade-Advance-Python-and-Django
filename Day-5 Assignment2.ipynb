{
 "cells": [
  {
   "cell_type": "markdown",
   "metadata": {},
   "source": [
    "# Question 1\n",
    "# The SHIELD is a secretive organization entrusted with the task of guarding the world against any disaster. Their arch nemesis is the organization called HYDRA. Unfortunately somemembers from HYDRA had infiltrated into the SHIELD camp. SHIELD needed to find out allthese infiltrators to ensure that it was not compromised. Nick Fury, the executive director and the prime SHIELD member figured out that every onein SHIELD could send a SOS signal to every other SHIELD member he knew well. The HYDRAmembers could send bogus SOS messages to others to confuse others, but they could neverreceive a SOS message from a SHIELD member. Every SHIELD member would receive a SOS message ateast one other SHIELD member, who in turn would have received from another SHIELD member and so on till NickFury. SHIELD had a sophisticated mechanism to capture who sent a SOS signal to whom. Given this information, Nick needed someone to\n",
    "# write a program that could look into this data and figure out all HYDRA members.\n",
    "# Sample Input\n",
    "# Nick Fury : Tony Stark, Maria Hill, Norman Osborn\n",
    "# Hulk : Tony Stark, HawkEye, Rogers\n",
    "# Rogers : Thor,\n",
    "# Tony Stark: Pepper Potts, Nick Fury\n",
    "# Agent 13 : Agent-X, Nick Fury, Hitler\n",
    "# Thor: HawkEye, BlackWidow\n",
    "# BlackWidow:Hawkeye\n",
    "# Maria Hill : Hulk, Rogers, Nick Fury\n",
    "# Agent-X : Agent 13, Rogers\n",
    "# Norman Osborn: Tony Stark, Thor"
   ]
  },
  {
   "cell_type": "code",
   "execution_count": 1,
   "metadata": {},
   "outputs": [
    {
     "name": "stdout",
     "output_type": "stream",
     "text": [
      "{'Agent-X', 'Hitler', 'Agent 13'}\n"
     ]
    }
   ],
   "source": [
    "def uncover_hydra(communications, fury):\n",
    "    messages = dict()\n",
    "\n",
    "    for cmnt in communications:\n",
    "        _parse_communication(cmnt, messages)\n",
    "\n",
    "    print(_find_hydra_agents(messages, fury))\n",
    "\n",
    "def _parse_communication(cmnt, messages):\n",
    "    msg = cmnt.split(':')\n",
    "    sender = msg[0].strip()\n",
    "    receivers = [receiver.strip() for receiver in msg[1].split(',')]\n",
    "    messages[sender] = receivers\n",
    "\n",
    "\n",
    "def _find_hydra_agents(agents_msg, fury):\n",
    "    hydra, shield_agents, agents = set(), set(), [fury]\n",
    "\n",
    "    while len(agents) > 0:\n",
    "        current = agents.pop()\n",
    "        shield_agents.add(current)\n",
    "\n",
    "        if current in agents_msg:\n",
    "            for agent in agents_msg[current]:\n",
    "                if agent not in shield_agents:\n",
    "                    agents.append(agent)\n",
    "\n",
    " \n",
    "    for sender in agents_msg.keys():\n",
    "        if sender not in shield_agents:\n",
    "            hydra.add(sender)\n",
    "\n",
    "        for receiver in agents_msg[sender]:\n",
    "            if receiver not in shield_agents:\n",
    "                hydra.add(receiver)\n",
    "\n",
    "    return hydra\n",
    "\n",
    "\n",
    "communication = [\"Nick Fury : Tony Stark, Maria Hill, Norman Osborn\",\n",
    "                 \"Hulk : Tony Stark, HawkEye, Rogers\",\n",
    "                 \"Rogers : Thor\",\n",
    "                 \"Tony Stark: Pepper Potts, Nick Fury\",\n",
    "                 \"Agent 13 : Agent-X, Nick Fury, Hitler\",\n",
    "                 \"Thor: HawkEye, BlackWidow\",\n",
    "                 \"BlackWidow:Hawkeye\",\n",
    "                 \"Maria Hill : Hulk, Rogers, Nick Fury\",\n",
    "                 \"Agent-X : Agent 13, Rogers\",\n",
    "                 \"Norman Osborn: Tony Stark, Thor\"]\n",
    "\n",
    "uncover_hydra(communication, \"Nick Fury\")"
   ]
  },
  {
   "cell_type": "code",
   "execution_count": null,
   "metadata": {},
   "outputs": [],
   "source": []
  }
 ],
 "metadata": {
  "kernelspec": {
   "display_name": "Python 3",
   "language": "python",
   "name": "python3"
  },
  "language_info": {
   "codemirror_mode": {
    "name": "ipython",
    "version": 3
   },
   "file_extension": ".py",
   "mimetype": "text/x-python",
   "name": "python",
   "nbconvert_exporter": "python",
   "pygments_lexer": "ipython3",
   "version": "3.7.6"
  }
 },
 "nbformat": 4,
 "nbformat_minor": 4
}

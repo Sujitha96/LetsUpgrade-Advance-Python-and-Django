{
 "cells": [
  {
   "cell_type": "markdown",
   "metadata": {},
   "source": [
    "# Create a program to generate a password\n",
    "# length 12\n",
    "# 6 random == \"A-Z a-z\"\n",
    "# 4 --> digits\n",
    "# 2 -- > special characters"
   ]
  },
  {
   "cell_type": "code",
   "execution_count": 2,
   "metadata": {},
   "outputs": [
    {
     "name": "stdout",
     "output_type": "stream",
     "text": [
      " Random alphanumeric string is: 92)fUbQ^X92t\n"
     ]
    }
   ],
   "source": [
    "import random\n",
    "import string\n",
    "\n",
    "def get_random_alphanumeric_string(letters_count, digits_count,punctuation_count):\n",
    "    sample_str = ''.join((random.choice(string.ascii_letters) for i in range(letters_count)))\n",
    "    sample_str += ''.join((random.choice(string.digits) for i in range(digits_count)))\n",
    "    sample_str += ''.join((random.choice(string.punctuation) for i in range(punctuation_count)))\n",
    "    sample_list = list(sample_str)\n",
    "    random.shuffle(sample_list)\n",
    "    final_string = ''.join(sample_list)\n",
    "    return final_string\n",
    "print(\" Random alphanumeric string is:\", get_random_alphanumeric_string(6, 4,2))"
   ]
  },
  {
   "cell_type": "code",
   "execution_count": null,
   "metadata": {},
   "outputs": [],
   "source": []
  }
 ],
 "metadata": {
  "kernelspec": {
   "display_name": "Python 3",
   "language": "python",
   "name": "python3"
  },
  "language_info": {
   "codemirror_mode": {
    "name": "ipython",
    "version": 3
   },
   "file_extension": ".py",
   "mimetype": "text/x-python",
   "name": "python",
   "nbconvert_exporter": "python",
   "pygments_lexer": "ipython3",
   "version": "3.7.6"
  }
 },
 "nbformat": 4,
 "nbformat_minor": 4
}

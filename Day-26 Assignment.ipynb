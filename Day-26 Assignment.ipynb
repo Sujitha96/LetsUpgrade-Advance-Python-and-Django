{
 "cells": [
  {
   "cell_type": "markdown",
   "metadata": {},
   "source": [
    "# Question\n",
    "# Perform the shallow and deep copy experiment"
   ]
  },
  {
   "cell_type": "markdown",
   "metadata": {},
   "source": [
    "# Shallow copy"
   ]
  },
  {
   "cell_type": "code",
   "execution_count": 1,
   "metadata": {},
   "outputs": [
    {
     "name": "stdout",
     "output_type": "stream",
     "text": [
      "['xy', 56, 'z', 100]\n",
      "['xy', 56, 'z', 100]\n",
      "2168500742408\n",
      "2168500742024\n"
     ]
    }
   ],
   "source": [
    "list=['xy',56,'z',100]\n",
    "list1=['xyz',564,23,'a']\n",
    "list2=list[:]\n",
    "print(list)\n",
    "print(list2)\n",
    "print(id(list2))\n",
    "print(id(list))"
   ]
  },
  {
   "cell_type": "markdown",
   "metadata": {},
   "source": [
    "# Deepcopy"
   ]
  },
  {
   "cell_type": "code",
   "execution_count": 13,
   "metadata": {},
   "outputs": [
    {
     "name": "stdout",
     "output_type": "stream",
     "text": [
      "[['sujitha'], 100, 56, ['reddy']]\n"
     ]
    }
   ],
   "source": [
    "from copy import deepcopy\n",
    "list3=[['sujitha'],100,56,['reddy']]\n",
    "list4=deepcopy(list3)\n",
    "print(list4)"
   ]
  },
  {
   "cell_type": "code",
   "execution_count": 14,
   "metadata": {},
   "outputs": [
    {
     "name": "stdout",
     "output_type": "stream",
     "text": [
      "[['sujitha'], 100, 56, ['reddy'], 5]\n",
      "[['sujitha'], 100, 56, ['reddy']]\n"
     ]
    }
   ],
   "source": [
    "list3.append(5)\n",
    "print(list3)\n",
    "print(list4)"
   ]
  },
  {
   "cell_type": "code",
   "execution_count": 16,
   "metadata": {},
   "outputs": [
    {
     "name": "stdout",
     "output_type": "stream",
     "text": [
      "[['sujitha', 'bandi'], 100, 56, ['reddy'], 5]\n",
      "[['sujitha'], 100, 56, ['reddy']]\n"
     ]
    }
   ],
   "source": [
    "list3[0].append('bandi')\n",
    "print(list3)\n",
    "print(list4)"
   ]
  },
  {
   "cell_type": "code",
   "execution_count": 17,
   "metadata": {},
   "outputs": [
    {
     "name": "stdout",
     "output_type": "stream",
     "text": [
      "[['sujitha', 'bandi'], 100, 56, ['reddy'], 5]\n",
      "[['sujitha', 'bandi'], 100, 56, ['reddy']]\n"
     ]
    }
   ],
   "source": [
    "list4[0].append('bandi')\n",
    "print(list3)\n",
    "print(list4)"
   ]
  },
  {
   "cell_type": "code",
   "execution_count": null,
   "metadata": {},
   "outputs": [],
   "source": []
  }
 ],
 "metadata": {
  "kernelspec": {
   "display_name": "Python 3",
   "language": "python",
   "name": "python3"
  },
  "language_info": {
   "codemirror_mode": {
    "name": "ipython",
    "version": 3
   },
   "file_extension": ".py",
   "mimetype": "text/x-python",
   "name": "python",
   "nbconvert_exporter": "python",
   "pygments_lexer": "ipython3",
   "version": "3.7.6"
  }
 },
 "nbformat": 4,
 "nbformat_minor": 4
}

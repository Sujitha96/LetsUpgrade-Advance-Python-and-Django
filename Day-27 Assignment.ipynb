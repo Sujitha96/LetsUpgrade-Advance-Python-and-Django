{
 "cells": [
  {
   "cell_type": "markdown",
   "metadata": {},
   "source": [
    "# Execute this code 3 times with iterator and generator expression and write down your findings"
   ]
  },
  {
   "cell_type": "code",
   "execution_count": 1,
   "metadata": {},
   "outputs": [
    {
     "name": "stdout",
     "output_type": "stream",
     "text": [
      "0:00:00.118403\n"
     ]
    }
   ],
   "source": [
    "import datetime\n",
    "main_list = list(range(100000))\n",
    "t1 = datetime.datetime.now()\n",
    "list1 = (each**2 for each in main_list)\n",
    "for each in list1:\n",
    "  each\n",
    "t2 = datetime.datetime.now()\n",
    "print (t2-t1)"
   ]
  },
  {
   "cell_type": "code",
   "execution_count": 2,
   "metadata": {},
   "outputs": [
    {
     "name": "stdout",
     "output_type": "stream",
     "text": [
      "0:00:00.098634\n"
     ]
    }
   ],
   "source": [
    "import datetime\n",
    "main_list = list(range(100000))\n",
    "t1 = datetime.datetime.now()\n",
    "list1 = (each**2 for each in main_list)\n",
    "for each in list1:\n",
    "  each\n",
    "t2 = datetime.datetime.now()\n",
    "print (t2-t1)"
   ]
  },
  {
   "cell_type": "code",
   "execution_count": 3,
   "metadata": {},
   "outputs": [
    {
     "name": "stdout",
     "output_type": "stream",
     "text": [
      "0:00:10.089582\n"
     ]
    }
   ],
   "source": [
    "import datetime\n",
    "main_list = list(range(10000000))\n",
    "t1 = datetime.datetime.now()\n",
    "list1 = (each**2 for each in main_list)\n",
    "for each in list1:\n",
    "  each\n",
    "t2 = datetime.datetime.now()\n",
    "print (t2-t1)"
   ]
  },
  {
   "cell_type": "code",
   "execution_count": null,
   "metadata": {},
   "outputs": [],
   "source": []
  }
 ],
 "metadata": {
  "kernelspec": {
   "display_name": "Python 3",
   "language": "python",
   "name": "python3"
  },
  "language_info": {
   "codemirror_mode": {
    "name": "ipython",
    "version": 3
   },
   "file_extension": ".py",
   "mimetype": "text/x-python",
   "name": "python",
   "nbconvert_exporter": "python",
   "pygments_lexer": "ipython3",
   "version": "3.7.6"
  }
 },
 "nbformat": 4,
 "nbformat_minor": 4
}
